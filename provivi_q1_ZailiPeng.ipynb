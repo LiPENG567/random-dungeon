{
 "cells": [
  {
   "cell_type": "code",
   "execution_count": 3,
   "metadata": {},
   "outputs": [
    {
     "name": "stdout",
     "output_type": "stream",
     "text": [
      "Requirement already satisfied: pycairo in /Users/zailipeng/anaconda3/lib/python3.7/site-packages (1.20.1)\n",
      "\u001b[33mWARNING: You are using pip version 20.3b1; however, version 21.2.4 is available.\n",
      "You should consider upgrading via the '/Users/zailipeng/anaconda3/bin/python -m pip install --upgrade pip' command.\u001b[0m\n",
      "Note: you may need to restart the kernel to use updated packages.\n"
     ]
    }
   ],
   "source": [
    "pip install pycairo"
   ]
  },
  {
   "cell_type": "code",
   "execution_count": 214,
   "metadata": {},
   "outputs": [],
   "source": [
    "import random \n",
    "import cairo\n",
    "\n",
    "cells = {}\n",
    "cell_width = 100 # total cells in a row\n",
    "cell_length = 100 # total cells in a column\n",
    "def init_cells():\n",
    "    \"\"\"init the cells to zeros.\"\"\"\n",
    "    for r in range(cell_width):\n",
    "        for c in range(cell_length):\n",
    "            cells[(r,c)] = 0 # 0 reperesent wall, 1 will represent rooms and hallways in the dungeon\n",
    "\n",
    "class Room:\n",
    "    \"\"\"class for rooms in dungeon generation.\"\"\"\n",
    "    def __init__(self,r,c,width,length):\n",
    "        \"\"\"init attribute for room class.\"\"\"\n",
    "        self.r = r\n",
    "        self.c = c\n",
    "        self.width = width\n",
    "        self.length = length\n",
    "        \n",
    "    def overlap(room, rooms):\n",
    "        \"\"\"check if there is any overlapping between rooms.\n",
    "        return True if there is overlapping\"\"\"\n",
    "        for _room in rooms:\n",
    "            r_min_1,r_max_1 = room.r,room.r + room.width\n",
    "            r_min_2,r_max_2 = _room.r, _room.r + _room.width\n",
    "            c_min_1, c_max_1 = room.c, room.c + room.length\n",
    "            c_min_2, c_max_2 = _room.c, _room.c + _room.length\n",
    "            # check the overlapping conditions\n",
    "            if (r_min_1 <= r_max_2 and r_max_1 >= r_min_2) and (c_min_1 <= c_max_2 and c_max_1 >= c_min_2):\n",
    "                return True\n",
    "        return False\n",
    "    \n",
    "    def generate_rooms():\n",
    "        \"\"\"generate rooms in the dungeon.\"\"\"\n",
    "        total_rooms_cnt = random.randrange(min_rooms_cnt,max_rooms_cnt) # generate max number of rooms randomly\n",
    "        for i in range(total_rooms_cnt):\n",
    "            r,c = random.randrange(0,cell_width), random.randrange(0,cell_length)\n",
    "            width, length = random.randrange(min_room_length,max_room_length), random.randrange(min_room_length,max_room_length)\n",
    "            room = Room(r,c,width,length)\n",
    "            # check overlapping between rooms\n",
    "            if Room.overlap(room, rooms) == False:\n",
    "                rooms.append(room)\n",
    "        for room in rooms:\n",
    "            for r in range(room.r, room.r+room.width):\n",
    "                for c in range(room.c, room.c+room.length):\n",
    "                    cells[(r,c)] = 1     \n",
    "    \n",
    "    def hallways():\n",
    "        \"\"\"draws hallways to connect rooms.\"\"\"\n",
    "        for i in range(len(rooms)-1):\n",
    "            roomA = rooms[i]\n",
    "            roomB = rooms[i+1]\n",
    "            for r in range(roomA.r,roomB.r):\n",
    "                cells[(r,roomA.c)] = 1\n",
    "            for c in range(roomA.c, roomB.c):\n",
    "                cells[(roomA.r,c)] = 1\n",
    "            for r in range(roomB.r,roomA.r):\n",
    "                cells[(r,roomA.c)] = 1\n",
    "            for c in range(roomB.c, roomA.c):\n",
    "                cells[(roomA.r,c)] = 1\n",
    "                \n",
    "    def generate_dungeon():\n",
    "        \"\"\"highlight the dungeon with cario rectangles.\"\"\"\n",
    "        surface = cairo.ImageSurface(cairo.FORMAT_RGB24,1000,1000)\n",
    "        context = cairo.Context(surface)\n",
    "        for r in range(cell_width):\n",
    "            for c in range(cell_length):\n",
    "                if cells[(r,c)] == 0:\n",
    "                    context.set_source_rgb(0.0,0.0,0.2) # [0,1]\n",
    "                else:\n",
    "                    context.set_source_rgb(1.0,0.0,0.0) # red\n",
    "                context.rectangle(r*10, c*10, 5, 5) \n",
    "                context.fill()\n",
    "        surface.write_to_png(\"random_dungeon.png\") # generate image\n",
    "\n",
    "        \n",
    "# define parameters for this dungeon (room size + number of rooms range)\n",
    "min_room_length = 5\n",
    "max_room_length = 10\n",
    "min_rooms_cnt = 10\n",
    "max_rooms_cnt = 20\n",
    "rooms = []\n",
    "\n",
    "# generate the 2D dungeon by functions sequencially\n",
    "init_cells()\n",
    "Room.generate_rooms()\n",
    "Room.hallways()\n",
    "Room.generate_dungeon()\n",
    "    "
   ]
  },
  {
   "cell_type": "code",
   "execution_count": null,
   "metadata": {},
   "outputs": [],
   "source": []
  },
  {
   "cell_type": "code",
   "execution_count": null,
   "metadata": {},
   "outputs": [],
   "source": []
  }
 ],
 "metadata": {
  "kernelspec": {
   "display_name": "Python 3",
   "language": "python",
   "name": "python3"
  },
  "language_info": {
   "codemirror_mode": {
    "name": "ipython",
    "version": 3
   },
   "file_extension": ".py",
   "mimetype": "text/x-python",
   "name": "python",
   "nbconvert_exporter": "python",
   "pygments_lexer": "ipython3",
   "version": "3.7.3"
  }
 },
 "nbformat": 4,
 "nbformat_minor": 2
}
